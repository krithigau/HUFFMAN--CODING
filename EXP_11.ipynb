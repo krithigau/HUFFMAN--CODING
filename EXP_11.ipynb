{
 "cells": [
  {
   "cell_type": "code",
   "execution_count": 1,
   "id": "4dc18acf-1921-403b-8709-2210115eb6bf",
   "metadata": {},
   "outputs": [],
   "source": [
    "# Step 1: Get the input string\n",
    "input_string = \"huffman coding\"  # Example input string"
   ]
  },
  {
   "cell_type": "code",
   "execution_count": 2,
   "id": "1fc0b06b-4993-49d6-912b-bf7638a73978",
   "metadata": {},
   "outputs": [],
   "source": [
    "# Step 2: Calculate frequency of each character in the input string\n",
    "frequency = {}\n",
    "for char in input_string:\n",
    "    if char in frequency:\n",
    "        frequency[char] += 1\n",
    "    else:\n",
    "        frequency[char] = 1"
   ]
  },
  {
   "cell_type": "code",
   "execution_count": 3,
   "id": "e2f4e258-54d3-4c50-90c4-df41cc93584b",
   "metadata": {},
   "outputs": [],
   "source": [
    "# Step 3: Create tree nodes\n",
    "nodes = [[char, freq] for char, freq in frequency.items()]"
   ]
  },
  {
   "cell_type": "code",
   "execution_count": 4,
   "id": "379856c1-58fc-42d5-844a-9d26c6a9e511",
   "metadata": {},
   "outputs": [],
   "source": [
    "# Step 4: Main function to implement Huffman coding\n",
    "while len(nodes) > 1:\n",
    "    # Sort nodes based on frequency\n",
    "    nodes = sorted(nodes, key=lambda x: x[1])\n",
    "\n",
    "    # Pick two smallest nodes\n",
    "    left = nodes.pop(0)\n",
    "    right = nodes.pop(0)\n",
    "\n",
    "    # Create a new node with combined frequency\n",
    "    new_node = [[left, right], left[1] + right[1]]\n",
    "    nodes.append(new_node)\n",
    "\n",
    "# The final node is the Huffman tree\n",
    "huffman_tree = nodes[0]"
   ]
  },
  {
   "cell_type": "code",
   "execution_count": null,
   "id": "d6f5cad7-2951-4334-ae79-59977c8b245b",
   "metadata": {},
   "outputs": [],
   "source": [
    "# Step 5: Generate Huffman codes\n",
    "huffman_codes = {}\n",
    "\n",
    "def generate_codes(tree, code=\"\"):\n",
    "    if isinstance(tree[0], str):  # If it's a leaf node\n",
    "        huffman_codes[tree[0]] = code\n",
    "    else:  # If it's an internal node, recurse\n",
    "        generate_codes(tree[0][0], code + \"0\")\n",
    "        generate_codes(tree[0][1], code + \"1\")\n",
    "\n",
    "generate_codes(huffman_tree)"
   ]
  }
 ],
 "metadata": {
  "kernelspec": {
   "display_name": "Python 3 (ipykernel)",
   "language": "python",
   "name": "python3"
  },
  "language_info": {
   "codemirror_mode": {
    "name": "ipython",
    "version": 3
   },
   "file_extension": ".py",
   "mimetype": "text/x-python",
   "name": "python",
   "nbconvert_exporter": "python",
   "pygments_lexer": "ipython3",
   "version": "3.11.11"
  }
 },
 "nbformat": 4,
 "nbformat_minor": 5
}
